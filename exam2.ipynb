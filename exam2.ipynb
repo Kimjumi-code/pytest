{
 "cells": [
  {
   "cell_type": "code",
   "execution_count": 2,
   "id": "a586d249",
   "metadata": {},
   "outputs": [
    {
     "ename": "SyntaxError",
     "evalue": "invalid syntax (2788621179.py, line 11)",
     "output_type": "error",
     "traceback": [
      "  \u001b[36mCell\u001b[39m\u001b[36m \u001b[39m\u001b[32mIn[2]\u001b[39m\u001b[32m, line 11\u001b[39m\n\u001b[31m    \u001b[39m\u001b[31mpip list\u001b[39m\n        ^\n\u001b[31mSyntaxError\u001b[39m\u001b[31m:\u001b[39m invalid syntax\n"
     ]
    }
   ],
   "source": [
    "# pip모듈 설치\n",
    "# pip install 모듈\n",
    "# pip 모듈 삭제\n",
    "# pip uninstall 모듈이름\n",
    "\n",
    "# pip install numpy\n",
    "# pip install numpy == 1.22.0\n",
    "# pip uninstall numpy\n",
    "\n",
    "# 설치된 모듈 보기\n",
    "pip list"
   ]
  },
  {
   "cell_type": "code",
   "execution_count": 13,
   "id": "ccd5dfb8",
   "metadata": {},
   "outputs": [
    {
     "name": "stdout",
     "output_type": "stream",
     "text": [
      "C:\\Temp\n",
      "C:\\Users\\user\\Desktop\\py_work\\pytest\n"
     ]
    }
   ],
   "source": [
    "# 운영체제 모듈 불러오기\n",
    "import os\n",
    "# 현재 디렉토리를 알려주는 함수 (현재 경로)\n",
    "print(os.getcwd())\n",
    "\n",
    "# 디렉토리를 이동할 수 있게 해주는 함수\n",
    "# 한국어 인식이 안 되기 때문에 폴더명 영어로 설정 필요\n",
    "os.chdir(\"C://Users/user/Desktop/py_work/pytest\")\n",
    "print(os.getcwd())"
   ]
  },
  {
   "cell_type": "code",
   "execution_count": 14,
   "id": "87b85dcf",
   "metadata": {},
   "outputs": [
    {
     "name": "stdout",
     "output_type": "stream",
     "text": [
      ".git\n",
      "exam1.ipynb\n",
      "exam2.ipynb\n"
     ]
    }
   ],
   "source": [
    "# 입력한 경로의 파일과 폴더 목록을 리스트로 반환하는 함수\n",
    "os.listdir(\"C://Users/user/Desktop/py_work/pytest\")\n",
    "\n",
    "# 리스트에 있는 요소 하나씩 출력\n",
    "for i in os.listdir(\"C://Users/user/Desktop/py_work/pytest\"):\n",
    "    print(i)"
   ]
  },
  {
   "cell_type": "code",
   "execution_count": 15,
   "id": "c21ca752",
   "metadata": {},
   "outputs": [
    {
     "name": "stdout",
     "output_type": "stream",
     "text": [
      "False\n"
     ]
    }
   ],
   "source": [
    "# 특정 폴더가 존재하는지 안 하는지 판단해주는 함수(True, False)\n",
    "print(os.path.exists(\"C://Users/user/Desktop/py_work/pytest/test1\"))"
   ]
  },
  {
   "cell_type": "code",
   "execution_count": 24,
   "id": "addca668",
   "metadata": {},
   "outputs": [
    {
     "ename": "FileNotFoundError",
     "evalue": "[WinError 3] 지정된 경로를 찾을 수 없습니다: 'C:/Users/user/Desktop/py_work/pytest/py_test3/py_test3_1'",
     "output_type": "error",
     "traceback": [
      "\u001b[31m---------------------------------------------------------------------------\u001b[39m",
      "\u001b[31mFileNotFoundError\u001b[39m                         Traceback (most recent call last)",
      "\u001b[36mCell\u001b[39m\u001b[36m \u001b[39m\u001b[32mIn[24]\u001b[39m\u001b[32m, line 6\u001b[39m\n\u001b[32m      1\u001b[39m \u001b[38;5;66;03m# 폴더를 만들어주는 함수\u001b[39;00m\n\u001b[32m      2\u001b[39m \u001b[38;5;66;03m# os.chdir(\"C://Users/user/Desktop/py_work/pytest\")\u001b[39;00m\n\u001b[32m      3\u001b[39m \u001b[38;5;66;03m# os.mkdir(\"py_test2\")\u001b[39;00m\n\u001b[32m      4\u001b[39m \n\u001b[32m      5\u001b[39m \u001b[38;5;66;03m# 새로운 폴더와 그 하위 폴더까지 만들어주는 함수\u001b[39;00m\n\u001b[32m----> \u001b[39m\u001b[32m6\u001b[39m \u001b[43mos\u001b[49m\u001b[43m.\u001b[49m\u001b[43mmkdir\u001b[49m\u001b[43m(\u001b[49m\u001b[33;43m\"\u001b[39;49m\u001b[33;43mC:/Users/user/Desktop/py_work/pytest/py_test3/py_test3_1\u001b[39;49m\u001b[33;43m\"\u001b[39;49m\u001b[43m)\u001b[49m\n",
      "\u001b[31mFileNotFoundError\u001b[39m: [WinError 3] 지정된 경로를 찾을 수 없습니다: 'C:/Users/user/Desktop/py_work/pytest/py_test3/py_test3_1'"
     ]
    }
   ],
   "source": [
    "# 폴더를 만들어주는 함수\n",
    "# os.chdir(\"C://Users/user/Desktop/py_work/pytest\")\n",
    "# os.mkdir(\"py_test2\")\n",
    "\n",
    "# 새로운 폴더와 그 하위 폴더까지 만들어주는 함수\n",
    "os.mkdir(\"C:/Users/user/Desktop/py_work/pytest/py_test3/py_test3_1\")"
   ]
  },
  {
   "cell_type": "code",
   "execution_count": null,
   "id": "8591a7bd",
   "metadata": {},
   "outputs": [],
   "source": [
    "# 폴더를 삭제해주는 함수\n",
    "os.rmdir(\"C:\\Users\\user\\Desktop\\py_work\\pytest\")\n",
    "\n",
    "# 여러개의 폴더를 삭제해주는 함수\n",
    "os.rmdir(\"C:\\Users\\user\\Desktop\\py_work\\pytest\\\")"
   ]
  }
 ],
 "metadata": {
  "kernelspec": {
   "display_name": "Python 3",
   "language": "python",
   "name": "python3"
  },
  "language_info": {
   "codemirror_mode": {
    "name": "ipython",
    "version": 3
   },
   "file_extension": ".py",
   "mimetype": "text/x-python",
   "name": "python",
   "nbconvert_exporter": "python",
   "pygments_lexer": "ipython3",
   "version": "3.12.4"
  }
 },
 "nbformat": 4,
 "nbformat_minor": 5
}
